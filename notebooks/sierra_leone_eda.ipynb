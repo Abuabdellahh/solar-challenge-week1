{
 "cells": [
  {
   "cell_type": "code",
   "execution_count": null,
   "metadata": {
    "vscode": {
     "languageId": "plaintext"
    }
   },
   "outputs": [],
   "source": [
    "{\n",
    " \"cells\": [\n",
    "  {\n",
    "   \"cell_type\": \"markdown\",\n",
    "   \"metadata\": {},\n",
    "   \"source\": [\n",
    "    \"# Sierra Leone Data Profiling\\n\",\n",
    "    \"\\n\",\n",
    "    \"This notebook profiles `sierraleone-bumbuna.csv` for the Solar Data Challenge.\"\n",
    "   ]\n",
    "  },\n",
    "  {\n",
    "   \"cell_type\": \"code\",\n",
    "   \"execution_count\": null,\n",
    "   \"metadata\": {},\n",
    "   \"outputs\": [],\n",
    "   \"source\": [\n",
    "    \"import pandas as pd\\n\",\n",
    "    \"\\n\",\n",
    "    \"# Load data\\n\",\n",
    "    \"df = pd.read_csv('../data/sierraleone-bumbuna.csv')\\n\",\n",
    "    \"\\n\",\n",
    "    \"# Summary statistics\\n\",\n",
    "    \"print('Summary Statistics:')\\n\",\n",
    "    \"print(df[['GHI', 'DNI', 'DHI', 'ModA', 'ModB', 'WS', 'WSgust', 'Tamb', 'RH', 'BP']].describe())\\n\",\n",
    "    \"\\n\",\n",
    "    \"# Missing values\\n\",\n",
    "    \"print('\\\\nMissing Values:')\\n\",\n",
    "    \"print(df.isna().sum())\\n\",\n",
    "    \"\\n\",\n",
    "    \"# Validate GHI >= 0\\n\",\n",
    "    \"print('\\\\nNegative GHI Count:', (df['GHI'] < 0).sum())\\n\",\n",
    "    \"\\n\",\n",
    "    \"# Validate Timestamp\\n\",\n",
    "    \"df['Timestamp'] = pd.to_datetime(df['Timestamp'])\\n\",\n",
    "    \"print('\\\\nTimestamp Dtype:', df['Timestamp'].dtype)\"\n",
    "   ]\n",
    "  }\n",
    " ],\n",
    " \"metadata\": {\n",
    "  \"kernelspec\": {\n",
    "   \"display_name\": \"Python 3\",\n",
    "   \"language\": \"python\",\n",
    "   \"name\": \"python3\"\n",
    "  },\n",
    "  \"language_info\": {\n",
    "   \"codemirror_mode\": {\n",
    "    \"name\": \"ipython\",\n",
    "    \"version\": 3\n",
    "   },\n",
    "   \"file_extension\": \".py\",\n",
    "   \"mimetype\": \"text/x-python\",\n",
    "   \"name\": \"python\",\n",
    "   \"nbconvert_exporter\": \"python\",\n",
    "   \"pygments_lexer\": \"ipython3\",\n",
    "   \"version\": \"3.11.0\"\n",
    "  }\n",
    " },\n",
    " \"nbformat\": 4,\n",
    " \"nbformat_minor\": 4\n",
    "}"
   ]
  }
 ],
 "metadata": {
  "language_info": {
   "name": "python"
  }
 },
 "nbformat": 4,
 "nbformat_minor": 2
}
